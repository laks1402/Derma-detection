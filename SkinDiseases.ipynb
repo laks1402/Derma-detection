{
  "cells": [
    {
      "cell_type": "markdown",
      "metadata": {
        "id": "view-in-github",
        "colab_type": "text"
      },
      "source": [
        "<a href=\"https://colab.research.google.com/github/laks1402/Derma-detection/blob/derma/SkinDiseases.ipynb\" target=\"_parent\"><img src=\"https://colab.research.google.com/assets/colab-badge.svg\" alt=\"Open In Colab\"/></a>"
      ]
    },
    {
      "cell_type": "code",
      "execution_count": 1,
      "metadata": {
        "colab": {
          "base_uri": "https://localhost:8080/"
        },
        "id": "no9oKrkLQiAZ",
        "outputId": "b8703c53-5d5d-4313-d431-e338310590ed"
      },
      "outputs": [
        {
          "output_type": "stream",
          "name": "stdout",
          "text": [
            "Drive already mounted at /content/drive; to attempt to forcibly remount, call drive.mount(\"/content/drive\", force_remount=True).\n"
          ]
        }
      ],
      "source": [
        "from google.colab import drive\n",
        "drive.mount('/content/drive')\n"
      ]
    },
    {
      "cell_type": "code",
      "execution_count": 2,
      "metadata": {
        "id": "WwWCcuR1T2bb"
      },
      "outputs": [],
      "source": [
        "import matplotlib.pyplot as plt\n",
        "import numpy as np\n",
        "import pandas as pd\n",
        "import os\n",
        "from PIL import Image\n",
        "\n",
        "import keras\n",
        "from tensorflow.keras.utils import to_categorical\n",
        "from keras.models import Sequential\n",
        "from keras.layers import Dense, Dropout, Flatten, Conv2D, MaxPool2D\n",
        "from tensorflow.keras.layers import BatchNormalization\n",
        "from keras.optimizers import Adam\n",
        "from tensorflow.keras.preprocessing.image import ImageDataGenerator\n",
        "from keras.callbacks import ReduceLROnPlateau\n",
        "from sklearn.model_selection import train_test_split"
      ]
    },
    {
      "cell_type": "code",
      "execution_count": 3,
      "metadata": {
        "colab": {
          "base_uri": "https://localhost:8080/",
          "height": 206
        },
        "id": "O7-el-cDUH08",
        "outputId": "7077c93e-5db6-413e-9828-8c3821cbc4c7"
      },
      "outputs": [
        {
          "output_type": "execute_result",
          "data": {
            "text/plain": [
              "                                          image_path  label\n",
              "0  /content/drive/MyDrive/Colab Notebooks/Dataset...      0\n",
              "1  /content/drive/MyDrive/Colab Notebooks/Dataset...      0\n",
              "2  /content/drive/MyDrive/Colab Notebooks/Dataset...      0\n",
              "3  /content/drive/MyDrive/Colab Notebooks/Dataset...      0\n",
              "4  /content/drive/MyDrive/Colab Notebooks/Dataset...      0"
            ],
            "text/html": [
              "\n",
              "  <div id=\"df-58783ea6-32fb-4b2e-bce9-46a3effa18e7\" class=\"colab-df-container\">\n",
              "    <div>\n",
              "<style scoped>\n",
              "    .dataframe tbody tr th:only-of-type {\n",
              "        vertical-align: middle;\n",
              "    }\n",
              "\n",
              "    .dataframe tbody tr th {\n",
              "        vertical-align: top;\n",
              "    }\n",
              "\n",
              "    .dataframe thead th {\n",
              "        text-align: right;\n",
              "    }\n",
              "</style>\n",
              "<table border=\"1\" class=\"dataframe\">\n",
              "  <thead>\n",
              "    <tr style=\"text-align: right;\">\n",
              "      <th></th>\n",
              "      <th>image_path</th>\n",
              "      <th>label</th>\n",
              "    </tr>\n",
              "  </thead>\n",
              "  <tbody>\n",
              "    <tr>\n",
              "      <th>0</th>\n",
              "      <td>/content/drive/MyDrive/Colab Notebooks/Dataset...</td>\n",
              "      <td>0</td>\n",
              "    </tr>\n",
              "    <tr>\n",
              "      <th>1</th>\n",
              "      <td>/content/drive/MyDrive/Colab Notebooks/Dataset...</td>\n",
              "      <td>0</td>\n",
              "    </tr>\n",
              "    <tr>\n",
              "      <th>2</th>\n",
              "      <td>/content/drive/MyDrive/Colab Notebooks/Dataset...</td>\n",
              "      <td>0</td>\n",
              "    </tr>\n",
              "    <tr>\n",
              "      <th>3</th>\n",
              "      <td>/content/drive/MyDrive/Colab Notebooks/Dataset...</td>\n",
              "      <td>0</td>\n",
              "    </tr>\n",
              "    <tr>\n",
              "      <th>4</th>\n",
              "      <td>/content/drive/MyDrive/Colab Notebooks/Dataset...</td>\n",
              "      <td>0</td>\n",
              "    </tr>\n",
              "  </tbody>\n",
              "</table>\n",
              "</div>\n",
              "    <div class=\"colab-df-buttons\">\n",
              "\n",
              "  <div class=\"colab-df-container\">\n",
              "    <button class=\"colab-df-convert\" onclick=\"convertToInteractive('df-58783ea6-32fb-4b2e-bce9-46a3effa18e7')\"\n",
              "            title=\"Convert this dataframe to an interactive table.\"\n",
              "            style=\"display:none;\">\n",
              "\n",
              "  <svg xmlns=\"http://www.w3.org/2000/svg\" height=\"24px\" viewBox=\"0 -960 960 960\">\n",
              "    <path d=\"M120-120v-720h720v720H120Zm60-500h600v-160H180v160Zm220 220h160v-160H400v160Zm0 220h160v-160H400v160ZM180-400h160v-160H180v160Zm440 0h160v-160H620v160ZM180-180h160v-160H180v160Zm440 0h160v-160H620v160Z\"/>\n",
              "  </svg>\n",
              "    </button>\n",
              "\n",
              "  <style>\n",
              "    .colab-df-container {\n",
              "      display:flex;\n",
              "      gap: 12px;\n",
              "    }\n",
              "\n",
              "    .colab-df-convert {\n",
              "      background-color: #E8F0FE;\n",
              "      border: none;\n",
              "      border-radius: 50%;\n",
              "      cursor: pointer;\n",
              "      display: none;\n",
              "      fill: #1967D2;\n",
              "      height: 32px;\n",
              "      padding: 0 0 0 0;\n",
              "      width: 32px;\n",
              "    }\n",
              "\n",
              "    .colab-df-convert:hover {\n",
              "      background-color: #E2EBFA;\n",
              "      box-shadow: 0px 1px 2px rgba(60, 64, 67, 0.3), 0px 1px 3px 1px rgba(60, 64, 67, 0.15);\n",
              "      fill: #174EA6;\n",
              "    }\n",
              "\n",
              "    .colab-df-buttons div {\n",
              "      margin-bottom: 4px;\n",
              "    }\n",
              "\n",
              "    [theme=dark] .colab-df-convert {\n",
              "      background-color: #3B4455;\n",
              "      fill: #D2E3FC;\n",
              "    }\n",
              "\n",
              "    [theme=dark] .colab-df-convert:hover {\n",
              "      background-color: #434B5C;\n",
              "      box-shadow: 0px 1px 3px 1px rgba(0, 0, 0, 0.15);\n",
              "      filter: drop-shadow(0px 1px 2px rgba(0, 0, 0, 0.3));\n",
              "      fill: #FFFFFF;\n",
              "    }\n",
              "  </style>\n",
              "\n",
              "    <script>\n",
              "      const buttonEl =\n",
              "        document.querySelector('#df-58783ea6-32fb-4b2e-bce9-46a3effa18e7 button.colab-df-convert');\n",
              "      buttonEl.style.display =\n",
              "        google.colab.kernel.accessAllowed ? 'block' : 'none';\n",
              "\n",
              "      async function convertToInteractive(key) {\n",
              "        const element = document.querySelector('#df-58783ea6-32fb-4b2e-bce9-46a3effa18e7');\n",
              "        const dataTable =\n",
              "          await google.colab.kernel.invokeFunction('convertToInteractive',\n",
              "                                                    [key], {});\n",
              "        if (!dataTable) return;\n",
              "\n",
              "        const docLinkHtml = 'Like what you see? Visit the ' +\n",
              "          '<a target=\"_blank\" href=https://colab.research.google.com/notebooks/data_table.ipynb>data table notebook</a>'\n",
              "          + ' to learn more about interactive tables.';\n",
              "        element.innerHTML = '';\n",
              "        dataTable['output_type'] = 'display_data';\n",
              "        await google.colab.output.renderOutput(dataTable, element);\n",
              "        const docLink = document.createElement('div');\n",
              "        docLink.innerHTML = docLinkHtml;\n",
              "        element.appendChild(docLink);\n",
              "      }\n",
              "    </script>\n",
              "  </div>\n",
              "\n",
              "\n",
              "    <div id=\"df-c64ce1b0-64d8-475d-8c43-0c87c2ddf077\">\n",
              "      <button class=\"colab-df-quickchart\" onclick=\"quickchart('df-c64ce1b0-64d8-475d-8c43-0c87c2ddf077')\"\n",
              "                title=\"Suggest charts\"\n",
              "                style=\"display:none;\">\n",
              "\n",
              "<svg xmlns=\"http://www.w3.org/2000/svg\" height=\"24px\"viewBox=\"0 0 24 24\"\n",
              "     width=\"24px\">\n",
              "    <g>\n",
              "        <path d=\"M19 3H5c-1.1 0-2 .9-2 2v14c0 1.1.9 2 2 2h14c1.1 0 2-.9 2-2V5c0-1.1-.9-2-2-2zM9 17H7v-7h2v7zm4 0h-2V7h2v10zm4 0h-2v-4h2v4z\"/>\n",
              "    </g>\n",
              "</svg>\n",
              "      </button>\n",
              "\n",
              "<style>\n",
              "  .colab-df-quickchart {\n",
              "      --bg-color: #E8F0FE;\n",
              "      --fill-color: #1967D2;\n",
              "      --hover-bg-color: #E2EBFA;\n",
              "      --hover-fill-color: #174EA6;\n",
              "      --disabled-fill-color: #AAA;\n",
              "      --disabled-bg-color: #DDD;\n",
              "  }\n",
              "\n",
              "  [theme=dark] .colab-df-quickchart {\n",
              "      --bg-color: #3B4455;\n",
              "      --fill-color: #D2E3FC;\n",
              "      --hover-bg-color: #434B5C;\n",
              "      --hover-fill-color: #FFFFFF;\n",
              "      --disabled-bg-color: #3B4455;\n",
              "      --disabled-fill-color: #666;\n",
              "  }\n",
              "\n",
              "  .colab-df-quickchart {\n",
              "    background-color: var(--bg-color);\n",
              "    border: none;\n",
              "    border-radius: 50%;\n",
              "    cursor: pointer;\n",
              "    display: none;\n",
              "    fill: var(--fill-color);\n",
              "    height: 32px;\n",
              "    padding: 0;\n",
              "    width: 32px;\n",
              "  }\n",
              "\n",
              "  .colab-df-quickchart:hover {\n",
              "    background-color: var(--hover-bg-color);\n",
              "    box-shadow: 0 1px 2px rgba(60, 64, 67, 0.3), 0 1px 3px 1px rgba(60, 64, 67, 0.15);\n",
              "    fill: var(--button-hover-fill-color);\n",
              "  }\n",
              "\n",
              "  .colab-df-quickchart-complete:disabled,\n",
              "  .colab-df-quickchart-complete:disabled:hover {\n",
              "    background-color: var(--disabled-bg-color);\n",
              "    fill: var(--disabled-fill-color);\n",
              "    box-shadow: none;\n",
              "  }\n",
              "\n",
              "  .colab-df-spinner {\n",
              "    border: 2px solid var(--fill-color);\n",
              "    border-color: transparent;\n",
              "    border-bottom-color: var(--fill-color);\n",
              "    animation:\n",
              "      spin 1s steps(1) infinite;\n",
              "  }\n",
              "\n",
              "  @keyframes spin {\n",
              "    0% {\n",
              "      border-color: transparent;\n",
              "      border-bottom-color: var(--fill-color);\n",
              "      border-left-color: var(--fill-color);\n",
              "    }\n",
              "    20% {\n",
              "      border-color: transparent;\n",
              "      border-left-color: var(--fill-color);\n",
              "      border-top-color: var(--fill-color);\n",
              "    }\n",
              "    30% {\n",
              "      border-color: transparent;\n",
              "      border-left-color: var(--fill-color);\n",
              "      border-top-color: var(--fill-color);\n",
              "      border-right-color: var(--fill-color);\n",
              "    }\n",
              "    40% {\n",
              "      border-color: transparent;\n",
              "      border-right-color: var(--fill-color);\n",
              "      border-top-color: var(--fill-color);\n",
              "    }\n",
              "    60% {\n",
              "      border-color: transparent;\n",
              "      border-right-color: var(--fill-color);\n",
              "    }\n",
              "    80% {\n",
              "      border-color: transparent;\n",
              "      border-right-color: var(--fill-color);\n",
              "      border-bottom-color: var(--fill-color);\n",
              "    }\n",
              "    90% {\n",
              "      border-color: transparent;\n",
              "      border-bottom-color: var(--fill-color);\n",
              "    }\n",
              "  }\n",
              "</style>\n",
              "\n",
              "      <script>\n",
              "        async function quickchart(key) {\n",
              "          const quickchartButtonEl =\n",
              "            document.querySelector('#' + key + ' button');\n",
              "          quickchartButtonEl.disabled = true;  // To prevent multiple clicks.\n",
              "          quickchartButtonEl.classList.add('colab-df-spinner');\n",
              "          try {\n",
              "            const charts = await google.colab.kernel.invokeFunction(\n",
              "                'suggestCharts', [key], {});\n",
              "          } catch (error) {\n",
              "            console.error('Error during call to suggestCharts:', error);\n",
              "          }\n",
              "          quickchartButtonEl.classList.remove('colab-df-spinner');\n",
              "          quickchartButtonEl.classList.add('colab-df-quickchart-complete');\n",
              "        }\n",
              "        (() => {\n",
              "          let quickchartButtonEl =\n",
              "            document.querySelector('#df-c64ce1b0-64d8-475d-8c43-0c87c2ddf077 button');\n",
              "          quickchartButtonEl.style.display =\n",
              "            google.colab.kernel.accessAllowed ? 'block' : 'none';\n",
              "        })();\n",
              "      </script>\n",
              "    </div>\n",
              "\n",
              "    </div>\n",
              "  </div>\n"
            ],
            "application/vnd.google.colaboratory.intrinsic+json": {
              "type": "dataframe",
              "variable_name": "df",
              "summary": "{\n  \"name\": \"df\",\n  \"rows\": 11684,\n  \"fields\": [\n    {\n      \"column\": \"image_path\",\n      \"properties\": {\n        \"dtype\": \"string\",\n        \"num_unique_values\": 11684,\n        \"samples\": [\n          \"/content/drive/MyDrive/Colab Notebooks/Datasets/Melanoma/ISIC_6653456.jpg\",\n          \"/content/drive/MyDrive/Colab Notebooks/Datasets/Seborrheic Keratosis/stucco-keratoses-29.jpg\",\n          \"/content/drive/MyDrive/Colab Notebooks/Datasets/Dermatofibroma/ISIC_0027626.jpg\"\n        ],\n        \"semantic_type\": \"\",\n        \"description\": \"\"\n      }\n    },\n    {\n      \"column\": \"label\",\n      \"properties\": {\n        \"dtype\": \"number\",\n        \"std\": 1,\n        \"min\": 0,\n        \"max\": 5,\n        \"num_unique_values\": 6,\n        \"samples\": [\n          0,\n          1,\n          5\n        ],\n        \"semantic_type\": \"\",\n        \"description\": \"\"\n      }\n    }\n  ]\n}"
            }
          },
          "metadata": {},
          "execution_count": 3
        }
      ],
      "source": [
        "import pandas as pd\n",
        "import os\n",
        "\n",
        "train_dir = '/content/drive/MyDrive/Colab Notebooks/Datasets'\n",
        "\n",
        "# Initialize lists\n",
        "train_data = []\n",
        "\n",
        "# Add image paths and labels to lists\n",
        "for label, directory in enumerate(os.listdir(train_dir)):\n",
        "    if directory == '.DS_Store':\n",
        "        continue\n",
        "\n",
        "    directory_path = os.path.join(train_dir, directory)\n",
        "    if not os.path.isdir(directory_path):\n",
        "        continue\n",
        "\n",
        "    for filename in os.listdir(directory_path):\n",
        "        if filename.startswith('.'):\n",
        "            continue\n",
        "        image_path = os.path.join(directory_path, filename)\n",
        "        train_data.append({'image_path': image_path, 'label': label})\n",
        "\n",
        "train_df = pd.DataFrame(train_data)\n",
        "\n",
        "df = pd.concat([train_df], ignore_index=True)\n",
        "del train_data\n",
        "df.head()\n"
      ]
    },
    {
      "cell_type": "code",
      "execution_count": 4,
      "metadata": {
        "colab": {
          "base_uri": "https://localhost:8080/"
        },
        "id": "QK6rTpPVUXG4",
        "outputId": "901b599b-4ae0-4baa-a99d-e1583e96c787"
      },
      "outputs": [
        {
          "output_type": "execute_result",
          "data": {
            "text/plain": [
              "{0: 'Melanoma',\n",
              " 1: 'Vascular Lesions',\n",
              " 2: 'Seborrheic Keratosis',\n",
              " 3: 'Dermatofibroma',\n",
              " 4: 'Basal Cell Carcinoma',\n",
              " 5: 'Acne'}"
            ]
          },
          "metadata": {},
          "execution_count": 4
        }
      ],
      "source": [
        "# Get list of directories in train_dir\n",
        "labels = os.listdir(train_dir)\n",
        "\n",
        "label_map = {i: label for i, label in enumerate(labels)}\n",
        "num_classes=len(label_map)\n",
        "label_map"
      ]
    },
    {
      "cell_type": "code",
      "execution_count": 5,
      "metadata": {
        "id": "cxw82NNlUm53"
      },
      "outputs": [],
      "source": [
        "max_images_per_class = 1500\n",
        "\n",
        "df = df.sort_values(\"label\").groupby(\"label\").head(max_images_per_class).reset_index(drop=True)"
      ]
    },
    {
      "cell_type": "code",
      "execution_count": 6,
      "metadata": {
        "colab": {
          "base_uri": "https://localhost:8080/"
        },
        "id": "Uis0iJGVU3dX",
        "outputId": "575ad324-f279-4f43-98ae-1d96b8d11333"
      },
      "outputs": [
        {
          "output_type": "stream",
          "name": "stdout",
          "text": [
            "[PhysicalDevice(name='/physical_device:GPU:0', device_type='GPU')]\n",
            "Available CPU Cores: 2\n"
          ]
        }
      ],
      "source": [
        "import tensorflow as tf\n",
        "import multiprocessing\n",
        "\n",
        "gpus = tf.config.experimental.list_physical_devices('GPU')\n",
        "print(gpus)\n",
        "try:\n",
        "    for gpu in gpus:\n",
        "        tf.config.experimental.set_memory_growth(gpu, True)\n",
        "except Exception as e:\n",
        "    print(e)\n",
        "\n",
        "max_workers = multiprocessing.cpu_count()\n",
        "print(f\"Available CPU Cores: {max_workers}\")\n"
      ]
    },
    {
      "cell_type": "code",
      "execution_count": 7,
      "metadata": {
        "id": "QMQ_Gn9XU8mo"
      },
      "outputs": [],
      "source": [
        "import torch\n",
        "device = torch.device(\"cuda\" if torch.cuda.is_available() else \"cpu\")"
      ]
    },
    {
      "cell_type": "code",
      "execution_count": 8,
      "metadata": {
        "id": "BvvUgwGXVEPx"
      },
      "outputs": [],
      "source": [
        "import concurrent.futures\n",
        "import os\n",
        "import numpy as np\n",
        "from PIL import Image\n",
        "\n",
        "# Resize image arrays\n",
        "def resize_image_array(image_path):\n",
        "    try:\n",
        "        if image_path.lower().endswith(('.png', '.jpg', '.jpeg', '.bmp', '.gif', '.tiff', '.webp')):\n",
        "            return np.asarray(Image.open(image_path).resize((128, 128)))\n",
        "    except Exception as e:\n",
        "        print(f\"Error processing {image_path}: {e}\")\n",
        "    return None\n",
        "\n",
        "valid_image_paths = [path for path in df['image_path'].tolist() if path.lower().endswith(('.png', '.jpg', '.jpeg', '.bmp', '.gif', '.tiff', '.webp'))]\n",
        "\n",
        "with concurrent.futures.ThreadPoolExecutor(max_workers=max_workers) as executor:\n",
        "    image_arrays = list(executor.map(resize_image_array, valid_image_paths))\n",
        "\n",
        "# Remove failed image\n",
        "image_arrays = [img for img in image_arrays if img is not None]\n",
        "\n",
        "# Add the resized image arrays to the DataFrame\n",
        "df = df[df['image_path'].isin(valid_image_paths)]\n",
        "df['image'] = image_arrays\n"
      ]
    },
    {
      "cell_type": "code",
      "execution_count": 9,
      "metadata": {
        "colab": {
          "base_uri": "https://localhost:8080/"
        },
        "id": "PocDVd0iZgec",
        "outputId": "cc08d063-2f5f-4823-edb7-8ee8bb9f9545"
      },
      "outputs": [
        {
          "output_type": "stream",
          "name": "stdout",
          "text": [
            "Dataset Summary\n",
            "------------------------------------------------------------\n",
            "Class Label     Class Name                     Count     \n",
            "------------------------------------------------------------\n",
            "0               Melanoma                       1500      \n",
            "1               Vascular Lesions               856       \n",
            "2               Seborrheic Keratosis           1500      \n",
            "3               Dermatofibroma                 344       \n",
            "4               Basal Cell Carcinoma           628       \n",
            "5               Acne                           1500      \n",
            "------------------------------------------------------------\n",
            "Total                                         6328      \n"
          ]
        }
      ],
      "source": [
        "# Count the number of images in each class\n",
        "class_counts = df['label'].value_counts().sort_index()\n",
        "\n",
        "# Print the number of images in each class\n",
        "print(\"Dataset Summary\")\n",
        "print(\"-\" * 60)\n",
        "print(f\"{'Class Label':<15} {'Class Name':<30} {'Count':<10}\")\n",
        "print(\"-\" * 60)\n",
        "for class_label, class_name in label_map.items():\n",
        "    count = class_counts[class_label]\n",
        "    print(f\"{class_label:<15} {class_name:<30} {count:<10}\")\n",
        "print(\"-\" * 60)\n",
        "print(f\"{'Total':<45} {sum(class_counts):<10}\")"
      ]
    },
    {
      "cell_type": "code",
      "execution_count": 10,
      "metadata": {
        "colab": {
          "base_uri": "https://localhost:8080/",
          "height": 178
        },
        "id": "__jtAm4bZtgo",
        "outputId": "c4ce64c1-9f7f-4862-b81e-da1e14885aa6"
      },
      "outputs": [
        {
          "output_type": "execute_result",
          "data": {
            "text/plain": [
              "image\n",
              "(128, 128, 3)    6245\n",
              "(128, 128, 4)      83\n",
              "Name: count, dtype: int64"
            ],
            "text/html": [
              "<div>\n",
              "<style scoped>\n",
              "    .dataframe tbody tr th:only-of-type {\n",
              "        vertical-align: middle;\n",
              "    }\n",
              "\n",
              "    .dataframe tbody tr th {\n",
              "        vertical-align: top;\n",
              "    }\n",
              "\n",
              "    .dataframe thead th {\n",
              "        text-align: right;\n",
              "    }\n",
              "</style>\n",
              "<table border=\"1\" class=\"dataframe\">\n",
              "  <thead>\n",
              "    <tr style=\"text-align: right;\">\n",
              "      <th></th>\n",
              "      <th>count</th>\n",
              "    </tr>\n",
              "    <tr>\n",
              "      <th>image</th>\n",
              "      <th></th>\n",
              "    </tr>\n",
              "  </thead>\n",
              "  <tbody>\n",
              "    <tr>\n",
              "      <th>(128, 128, 3)</th>\n",
              "      <td>6245</td>\n",
              "    </tr>\n",
              "    <tr>\n",
              "      <th>(128, 128, 4)</th>\n",
              "      <td>83</td>\n",
              "    </tr>\n",
              "  </tbody>\n",
              "</table>\n",
              "</div><br><label><b>dtype:</b> int64</label>"
            ]
          },
          "metadata": {},
          "execution_count": 10
        }
      ],
      "source": [
        "df['image'].map(lambda x: x.shape).value_counts()"
      ]
    },
    {
      "cell_type": "code",
      "execution_count": 11,
      "metadata": {
        "id": "dptjy6zgZ84_"
      },
      "outputs": [],
      "source": [
        "# Create an ImageDataGenerator object with the desired transformations\n",
        "train_datagen = ImageDataGenerator(\n",
        "    rotation_range=30,\n",
        "    width_shift_range=0.2,\n",
        "    height_shift_range=0.2,\n",
        "    shear_range=0.2,\n",
        "    zoom_range=0.2,\n",
        "    horizontal_flip=True,\n",
        "    fill_mode='nearest'\n",
        ")"
      ]
    },
    {
      "cell_type": "code",
      "execution_count": 12,
      "metadata": {
        "id": "zhkMVbD_Z_It"
      },
      "outputs": [],
      "source": [
        "augmented_df = pd.DataFrame(columns=['image_path', 'label', 'image'])\n",
        "\n",
        "for class_label in df['label'].unique():\n",
        "    image_arrays = df.loc[df['label'] == class_label, 'image'].values\n",
        "\n",
        "    num_images_needed = max_images_per_class - len(image_arrays)\n",
        "\n",
        "    augmented_images_list = []\n",
        "    if num_images_needed > 0:\n",
        "        selected_images = np.random.choice(image_arrays, size=num_images_needed)\n",
        "\n",
        "        for image_array in selected_images:\n",
        "            image_tensor = np.expand_dims(image_array, axis=0)\n",
        "            augmented_images = train_datagen.flow(image_tensor, batch_size=1)\n",
        "\n",
        "            for i in range(augmented_images.n):\n",
        "                augmented_image_array = next(augmented_images)[0].astype('uint8')\n",
        "                augmented_images_list.append({'image_path': None, 'label': class_label, 'image': augmented_image_array})\n",
        "\n",
        "    augmented_images_df = pd.DataFrame(augmented_images_list)\n",
        "\n",
        "    original_images_df = df.loc[df['label'] == class_label, ['image_path', 'label', 'image']]\n",
        "    augmented_df = pd.concat([augmented_df, original_images_df, augmented_images_df], ignore_index=True)\n",
        "\n",
        "df = augmented_df.groupby('label').head(max_images_per_class)\n",
        "\n",
        "del augmented_df\n",
        "\n",
        "df = df.sample(frac=1, random_state=42).reset_index(drop=True)\n"
      ]
    },
    {
      "cell_type": "code",
      "execution_count": 13,
      "metadata": {
        "colab": {
          "base_uri": "https://localhost:8080/"
        },
        "id": "ZuDq5Lu_aIt7",
        "outputId": "97a14c86-bcf0-4019-846e-ffda8e2fbb67"
      },
      "outputs": [
        {
          "output_type": "stream",
          "name": "stdout",
          "text": [
            "Dataset Summary\n",
            "------------------------------------------------------------\n",
            "Class Label     Class Name                     Count     \n",
            "------------------------------------------------------------\n",
            "0               Melanoma                       1500      \n",
            "1               Vascular Lesions               1500      \n",
            "2               Seborrheic Keratosis           1500      \n",
            "3               Dermatofibroma                 1500      \n",
            "4               Basal Cell Carcinoma           1500      \n",
            "5               Acne                           1500      \n",
            "------------------------------------------------------------\n",
            "Total                                         9000      \n"
          ]
        }
      ],
      "source": [
        "# Count the number of images in each class\n",
        "class_counts = df['label'].value_counts().sort_index()\n",
        "\n",
        "# Print the number of images in each class\n",
        "print(\"Dataset Summary\")\n",
        "print(\"-\" * 60)\n",
        "print(f\"{'Class Label':<15} {'Class Name':<30} {'Count':<10}\")\n",
        "print(\"-\" * 60)\n",
        "for class_label, class_name in label_map.items():\n",
        "    count = class_counts[class_label]\n",
        "    print(f\"{class_label:<15} {class_name:<30} {count:<10}\")\n",
        "print(\"-\" * 60)\n",
        "print(f\"{'Total':<45} {sum(class_counts):<10}\")"
      ]
    },
    {
      "cell_type": "code",
      "execution_count": 14,
      "metadata": {
        "id": "ARptWK8yaK6Q"
      },
      "outputs": [],
      "source": [
        "import numpy as np\n",
        "import cv2\n",
        "from sklearn.model_selection import train_test_split\n",
        "from tensorflow.keras.utils import to_categorical\n",
        "\n",
        "# Function to preprocess images and remove labels of skipped images\n",
        "def preprocess_images(image_list, label_list, target_size=(128, 128)):\n",
        "    processed_images = []\n",
        "    processed_labels = []\n",
        "\n",
        "    for img, label in zip(image_list, label_list):\n",
        "        img = np.array(img)\n",
        "\n",
        "        # Ignore RGBA images (128, 128, 4)\n",
        "        if img.shape[-1] == 4:\n",
        "            print(\"Skipping RGBA image\")\n",
        "            continue\n",
        "\n",
        "        # Convert grayscale images to RGB\n",
        "        if len(img.shape) == 2:\n",
        "            img = cv2.cvtColor(img, cv2.COLOR_GRAY2RGB)\n",
        "\n",
        "        # Resize image to (128, 128)\n",
        "        img = cv2.resize(img, target_size)\n",
        "\n",
        "        processed_images.append(img)\n",
        "        processed_labels.append(label)\n",
        "\n",
        "    return np.array(processed_images, dtype=np.float32), np.array(processed_labels)"
      ]
    },
    {
      "cell_type": "code",
      "execution_count": 15,
      "metadata": {
        "colab": {
          "base_uri": "https://localhost:8080/"
        },
        "collapsed": true,
        "id": "8jDPS9iWaRfJ",
        "outputId": "b2558bf7-273b-4720-de09-ae5cb5ca2f6f"
      },
      "outputs": [
        {
          "output_type": "stream",
          "name": "stdout",
          "text": [
            "Skipping RGBA image\n",
            "Skipping RGBA image\n",
            "Skipping RGBA image\n",
            "Skipping RGBA image\n",
            "Skipping RGBA image\n",
            "Skipping RGBA image\n",
            "Skipping RGBA image\n",
            "Skipping RGBA image\n",
            "Skipping RGBA image\n",
            "Skipping RGBA image\n",
            "Skipping RGBA image\n",
            "Skipping RGBA image\n",
            "Skipping RGBA image\n",
            "Skipping RGBA image\n",
            "Skipping RGBA image\n",
            "Skipping RGBA image\n",
            "Skipping RGBA image\n",
            "Skipping RGBA image\n",
            "Skipping RGBA image\n",
            "Skipping RGBA image\n",
            "Skipping RGBA image\n",
            "Skipping RGBA image\n",
            "Skipping RGBA image\n",
            "Skipping RGBA image\n",
            "Skipping RGBA image\n",
            "Skipping RGBA image\n",
            "Skipping RGBA image\n",
            "Skipping RGBA image\n",
            "Skipping RGBA image\n",
            "Skipping RGBA image\n",
            "Skipping RGBA image\n",
            "Skipping RGBA image\n",
            "Skipping RGBA image\n",
            "Skipping RGBA image\n",
            "Skipping RGBA image\n",
            "Skipping RGBA image\n",
            "Skipping RGBA image\n",
            "Skipping RGBA image\n",
            "Skipping RGBA image\n",
            "Skipping RGBA image\n",
            "Skipping RGBA image\n",
            "Skipping RGBA image\n",
            "Skipping RGBA image\n",
            "Skipping RGBA image\n",
            "Skipping RGBA image\n",
            "Skipping RGBA image\n",
            "Skipping RGBA image\n",
            "Skipping RGBA image\n",
            "Skipping RGBA image\n",
            "Skipping RGBA image\n",
            "Skipping RGBA image\n",
            "Skipping RGBA image\n",
            "Skipping RGBA image\n",
            "Skipping RGBA image\n",
            "Skipping RGBA image\n",
            "Skipping RGBA image\n",
            "Skipping RGBA image\n",
            "Skipping RGBA image\n",
            "Skipping RGBA image\n",
            "Skipping RGBA image\n",
            "Skipping RGBA image\n",
            "Skipping RGBA image\n",
            "Skipping RGBA image\n",
            "Skipping RGBA image\n",
            "Skipping RGBA image\n",
            "Skipping RGBA image\n",
            "Skipping RGBA image\n",
            "Skipping RGBA image\n",
            "Skipping RGBA image\n",
            "Skipping RGBA image\n",
            "Skipping RGBA image\n",
            "Skipping RGBA image\n",
            "Skipping RGBA image\n",
            "Skipping RGBA image\n",
            "Skipping RGBA image\n",
            "Skipping RGBA image\n",
            "Skipping RGBA image\n",
            "Skipping RGBA image\n",
            "Skipping RGBA image\n",
            "Skipping RGBA image\n",
            "Skipping RGBA image\n",
            "Skipping RGBA image\n",
            "Skipping RGBA image\n",
            "Skipping RGBA image\n",
            "Skipping RGBA image\n",
            "Skipping RGBA image\n",
            "Skipping RGBA image\n",
            "Skipping RGBA image\n",
            "Skipping RGBA image\n",
            "Skipping RGBA image\n",
            "Skipping RGBA image\n",
            "Skipping RGBA image\n",
            "Skipping RGBA image\n",
            "Skipping RGBA image\n",
            "Skipping RGBA image\n",
            "Skipping RGBA image\n",
            "Skipping RGBA image\n",
            "Skipping RGBA image\n",
            "Skipping RGBA image\n",
            "Skipping RGBA image\n",
            "Skipping RGBA image\n",
            "Skipping RGBA image\n",
            "Skipping RGBA image\n",
            "Skipping RGBA image\n",
            "Skipping RGBA image\n",
            "Skipping RGBA image\n",
            "Skipping RGBA image\n",
            "Skipping RGBA image\n",
            "Skipping RGBA image\n",
            "Skipping RGBA image\n",
            "Skipping RGBA image\n",
            "Skipping RGBA image\n",
            "Skipping RGBA image\n",
            "Skipping RGBA image\n",
            "Skipping RGBA image\n",
            "Skipping RGBA image\n",
            "Skipping RGBA image\n",
            "Skipping RGBA image\n",
            "Skipping RGBA image\n",
            "Skipping RGBA image\n",
            "Skipping RGBA image\n",
            "Skipping RGBA image\n",
            "Skipping RGBA image\n",
            "Skipping RGBA image\n",
            "Skipping RGBA image\n",
            "Skipping RGBA image\n",
            "Skipping RGBA image\n",
            "Skipping RGBA image\n",
            "Skipping RGBA image\n",
            "Skipping RGBA image\n",
            "Skipping RGBA image\n",
            "Skipping RGBA image\n",
            "Skipping RGBA image\n",
            "Skipping RGBA image\n",
            "Skipping RGBA image\n",
            "Data preprocessing complete!\n",
            "x_train shape: (5313, 128, 128, 3), y_train shape: (5313, 6)\n",
            "x_test shape: (1780, 128, 128, 3), y_test shape: (1780, 6)\n",
            "x_validate shape: (1772, 128, 128, 3), y_validate shape: (1772, 6)\n"
          ]
        }
      ],
      "source": [
        "# 80% train + 20% test split\n",
        "x_train, x_test, y_train, y_test = train_test_split(df['image'], df['label'], test_size=0.20, shuffle=True)\n",
        "\n",
        "# Convert images into a consistent format, ignoring RGBA images and labels\n",
        "x_train, y_train = preprocess_images([np.array(img) for img in x_train], y_train)\n",
        "x_test, y_test = preprocess_images([np.array(img) for img in x_test], y_test)\n",
        "\n",
        "# Normalize the images\n",
        "x_train_mean = np.mean(x_train)\n",
        "x_train_std = np.std(x_train)\n",
        "x_test_mean = np.mean(x_test)\n",
        "x_test_std = np.std(x_test)\n",
        "\n",
        "x_train = (x_train - x_train_mean) / x_train_std\n",
        "x_test = (x_test - x_test_mean) / x_test_std\n",
        "\n",
        "num_classes = len(set(df['label']))\n",
        "y_train = to_categorical(y_train, num_classes=num_classes)\n",
        "y_test = to_categorical(y_test, num_classes=num_classes)\n",
        "\n",
        "# Split training data into 60% training + 20% validation\n",
        "x_train, x_validate, y_train, y_validate = train_test_split(x_train, y_train, test_size=0.25, shuffle=True)\n",
        "\n",
        "# Ensure correct shape (128, 128, 3)\n",
        "x_train = x_train.reshape(x_train.shape[0], 128, 128, 3)\n",
        "x_test = x_test.reshape(x_test.shape[0], 128, 128, 3)\n",
        "x_validate = x_validate.reshape(x_validate.shape[0], 128, 128, 3)\n",
        "\n",
        "y_train = y_train.astype(int)\n",
        "y_validate = y_validate.astype(int)\n",
        "\n",
        "print(\"Data preprocessing complete!\")\n",
        "print(f\"x_train shape: {x_train.shape}, y_train shape: {y_train.shape}\")\n",
        "print(f\"x_test shape: {x_test.shape}, y_test shape: {y_test.shape}\")\n",
        "print(f\"x_validate shape: {x_validate.shape}, y_validate shape: {y_validate.shape}\")"
      ]
    },
    {
      "cell_type": "code",
      "source": [
        "features = df.drop(columns=['label','image_path'],axis=1)\n",
        "target = df['label']"
      ],
      "metadata": {
        "id": "J4E0MCO-4BvS"
      },
      "execution_count": 16,
      "outputs": []
    },
    {
      "cell_type": "code",
      "source": [
        "# Calculate the number of images in each class for train, validation, and test datasets\n",
        "train_counts = np.sum(y_train, axis=0)\n",
        "val_counts = np.sum(y_validate, axis=0)\n",
        "test_counts = np.sum(y_test, axis=0)\n",
        "\n",
        "# Print the number of images in each class for train, validation, and test datasets\n",
        "print(\"Dataset Summary\")\n",
        "print(\"-\" * 90)\n",
        "print(f\"{'Class Label':<15} {'Class Name':<30} {'Train':<10} {'Validation':<12} {'Test':<10} {'Total':<10}\")\n",
        "print(\"-\" * 90)\n",
        "for class_label, class_name in label_map.items():\n",
        "    train_num = int(train_counts[class_label])\n",
        "    val_num = int(val_counts[class_label])\n",
        "    test_num = int(test_counts[class_label])\n",
        "    total_num = train_num + val_num + test_num\n",
        "    print(f\"{class_label:<15} {class_name:<30} {train_num:<10} {val_num:<12} {test_num:<10} {total_num:<10}\")\n",
        "print(\"-\" * 90)\n",
        "print(f\"{'Total':<46} {len(y_train):<10} {len(y_validate):<12} {len(y_test):<10} {len(y_train) + len(y_validate) + len(y_test):<10}\")"
      ],
      "metadata": {
        "colab": {
          "base_uri": "https://localhost:8080/"
        },
        "id": "c8UiCIik4CcO",
        "outputId": "bd57e68f-29d0-4d02-94b8-46ce8a30e2d1"
      },
      "execution_count": 17,
      "outputs": [
        {
          "output_type": "stream",
          "name": "stdout",
          "text": [
            "Dataset Summary\n",
            "------------------------------------------------------------------------------------------\n",
            "Class Label     Class Name                     Train      Validation   Test       Total     \n",
            "------------------------------------------------------------------------------------------\n",
            "0               Melanoma                       912        290          298        1500      \n",
            "1               Vascular Lesions               881        315          304        1500      \n",
            "2               Seborrheic Keratosis           847        304          280        1431      \n",
            "3               Dermatofibroma                 873        264          297        1434      \n",
            "4               Basal Cell Carcinoma           898        278          324        1500      \n",
            "5               Acne                           902        321          277        1500      \n",
            "------------------------------------------------------------------------------------------\n",
            "Total                                          5313       1772         1780       8865      \n"
          ]
        }
      ]
    },
    {
      "cell_type": "code",
      "source": [
        "input_shape = df['image'][0].shape"
      ],
      "metadata": {
        "id": "goR4oMLS4F_M"
      },
      "execution_count": 18,
      "outputs": []
    },
    {
      "cell_type": "code",
      "source": [
        "from tensorflow.keras.applications import ResNet50, MobileNetV2\n",
        "from tensorflow.keras.layers import Dense, Dropout, Flatten, Concatenate, Input\n",
        "from tensorflow.keras.models import Model\n",
        "from tensorflow.keras.optimizers import Adam\n",
        "from tensorflow.keras.metrics import Precision, Recall\n",
        "from sklearn.metrics import f1_score\n",
        "\n",
        "input_shape = (128, 128, 3)\n",
        "\n",
        "# Load ResNet50\n",
        "resnet = ResNet50(include_top=False, weights='imagenet', input_shape=input_shape)\n",
        "resnet.trainable = False\n",
        "\n",
        "# Load MobileNetV2\n",
        "mobilenet = MobileNetV2(include_top=False, weights='imagenet', input_shape=input_shape)\n",
        "mobilenet.trainable = False\n",
        "\n",
        "input_layer = Input(shape=input_shape)\n",
        "\n",
        "# Get feature maps from ResNet50 and MobileNetV2\n",
        "resnet_features = resnet(input_layer)\n",
        "mobilenet_features = mobilenet(input_layer)\n",
        "\n",
        "resnet_flatten = Flatten()(resnet_features)\n",
        "mobilenet_flatten = Flatten()(mobilenet_features)\n",
        "\n",
        "# Concatenate features from both models\n",
        "concatenated = Concatenate()([resnet_flatten, mobilenet_flatten])\n",
        "\n",
        "x = Dense(512, activation='relu')(concatenated)\n",
        "x = Dropout(0.5)(x)\n",
        "x = Dense(256, activation='relu')(x)\n",
        "x = Dropout(0.5)(x)\n",
        "output_layer = Dense(num_classes, activation='softmax')(x)\n",
        "\n",
        "# Create the hybrid model\n",
        "hybrid_model = Model(inputs=input_layer, outputs=output_layer)\n",
        "\n",
        "hybrid_model.compile(\n",
        "    optimizer=Adam(learning_rate=0.0001),\n",
        "    loss='categorical_crossentropy',\n",
        "    metrics=['accuracy', Precision(name='precision'), Recall(name='recall')]\n",
        ")\n",
        "\n",
        "hybrid_model.summary()"
      ],
      "metadata": {
        "colab": {
          "base_uri": "https://localhost:8080/",
          "height": 638
        },
        "id": "7pdAy6lf4LEX",
        "outputId": "e15b19fb-d5fa-4522-c3d6-8c1cb7482120"
      },
      "execution_count": 19,
      "outputs": [
        {
          "output_type": "stream",
          "name": "stdout",
          "text": [
            "Downloading data from https://storage.googleapis.com/tensorflow/keras-applications/resnet/resnet50_weights_tf_dim_ordering_tf_kernels_notop.h5\n",
            "\u001b[1m94765736/94765736\u001b[0m \u001b[32m━━━━━━━━━━━━━━━━━━━━\u001b[0m\u001b[37m\u001b[0m \u001b[1m0s\u001b[0m 0us/step\n",
            "Downloading data from https://storage.googleapis.com/tensorflow/keras-applications/mobilenet_v2/mobilenet_v2_weights_tf_dim_ordering_tf_kernels_1.0_128_no_top.h5\n",
            "\u001b[1m9406464/9406464\u001b[0m \u001b[32m━━━━━━━━━━━━━━━━━━━━\u001b[0m\u001b[37m\u001b[0m \u001b[1m0s\u001b[0m 0us/step\n"
          ]
        },
        {
          "output_type": "display_data",
          "data": {
            "text/plain": [
              "\u001b[1mModel: \"functional\"\u001b[0m\n"
            ],
            "text/html": [
              "<pre style=\"white-space:pre;overflow-x:auto;line-height:normal;font-family:Menlo,'DejaVu Sans Mono',consolas,'Courier New',monospace\"><span style=\"font-weight: bold\">Model: \"functional\"</span>\n",
              "</pre>\n"
            ]
          },
          "metadata": {}
        },
        {
          "output_type": "display_data",
          "data": {
            "text/plain": [
              "┏━━━━━━━━━━━━━━━━━━━━━┳━━━━━━━━━━━━━━━━━━━┳━━━━━━━━━━━━┳━━━━━━━━━━━━━━━━━━━┓\n",
              "┃\u001b[1m \u001b[0m\u001b[1mLayer (type)       \u001b[0m\u001b[1m \u001b[0m┃\u001b[1m \u001b[0m\u001b[1mOutput Shape     \u001b[0m\u001b[1m \u001b[0m┃\u001b[1m \u001b[0m\u001b[1m   Param #\u001b[0m\u001b[1m \u001b[0m┃\u001b[1m \u001b[0m\u001b[1mConnected to     \u001b[0m\u001b[1m \u001b[0m┃\n",
              "┡━━━━━━━━━━━━━━━━━━━━━╇━━━━━━━━━━━━━━━━━━━╇━━━━━━━━━━━━╇━━━━━━━━━━━━━━━━━━━┩\n",
              "│ input_layer_2       │ (\u001b[38;5;45mNone\u001b[0m, \u001b[38;5;34m128\u001b[0m, \u001b[38;5;34m128\u001b[0m,  │          \u001b[38;5;34m0\u001b[0m │ -                 │\n",
              "│ (\u001b[38;5;33mInputLayer\u001b[0m)        │ \u001b[38;5;34m3\u001b[0m)                │            │                   │\n",
              "├─────────────────────┼───────────────────┼────────────┼───────────────────┤\n",
              "│ resnet50            │ (\u001b[38;5;45mNone\u001b[0m, \u001b[38;5;34m4\u001b[0m, \u001b[38;5;34m4\u001b[0m,      │ \u001b[38;5;34m23,587,712\u001b[0m │ input_layer_2[\u001b[38;5;34m0\u001b[0m]… │\n",
              "│ (\u001b[38;5;33mFunctional\u001b[0m)        │ \u001b[38;5;34m2048\u001b[0m)             │            │                   │\n",
              "├─────────────────────┼───────────────────┼────────────┼───────────────────┤\n",
              "│ mobilenetv2_1.00_1… │ (\u001b[38;5;45mNone\u001b[0m, \u001b[38;5;34m4\u001b[0m, \u001b[38;5;34m4\u001b[0m,      │  \u001b[38;5;34m2,257,984\u001b[0m │ input_layer_2[\u001b[38;5;34m0\u001b[0m]… │\n",
              "│ (\u001b[38;5;33mFunctional\u001b[0m)        │ \u001b[38;5;34m1280\u001b[0m)             │            │                   │\n",
              "├─────────────────────┼───────────────────┼────────────┼───────────────────┤\n",
              "│ flatten (\u001b[38;5;33mFlatten\u001b[0m)   │ (\u001b[38;5;45mNone\u001b[0m, \u001b[38;5;34m32768\u001b[0m)     │          \u001b[38;5;34m0\u001b[0m │ resnet50[\u001b[38;5;34m0\u001b[0m][\u001b[38;5;34m0\u001b[0m]    │\n",
              "├─────────────────────┼───────────────────┼────────────┼───────────────────┤\n",
              "│ flatten_1 (\u001b[38;5;33mFlatten\u001b[0m) │ (\u001b[38;5;45mNone\u001b[0m, \u001b[38;5;34m20480\u001b[0m)     │          \u001b[38;5;34m0\u001b[0m │ mobilenetv2_1.00… │\n",
              "├─────────────────────┼───────────────────┼────────────┼───────────────────┤\n",
              "│ concatenate         │ (\u001b[38;5;45mNone\u001b[0m, \u001b[38;5;34m53248\u001b[0m)     │          \u001b[38;5;34m0\u001b[0m │ flatten[\u001b[38;5;34m0\u001b[0m][\u001b[38;5;34m0\u001b[0m],    │\n",
              "│ (\u001b[38;5;33mConcatenate\u001b[0m)       │                   │            │ flatten_1[\u001b[38;5;34m0\u001b[0m][\u001b[38;5;34m0\u001b[0m]   │\n",
              "├─────────────────────┼───────────────────┼────────────┼───────────────────┤\n",
              "│ dense (\u001b[38;5;33mDense\u001b[0m)       │ (\u001b[38;5;45mNone\u001b[0m, \u001b[38;5;34m512\u001b[0m)       │ \u001b[38;5;34m27,263,488\u001b[0m │ concatenate[\u001b[38;5;34m0\u001b[0m][\u001b[38;5;34m0\u001b[0m] │\n",
              "├─────────────────────┼───────────────────┼────────────┼───────────────────┤\n",
              "│ dropout (\u001b[38;5;33mDropout\u001b[0m)   │ (\u001b[38;5;45mNone\u001b[0m, \u001b[38;5;34m512\u001b[0m)       │          \u001b[38;5;34m0\u001b[0m │ dense[\u001b[38;5;34m0\u001b[0m][\u001b[38;5;34m0\u001b[0m]       │\n",
              "├─────────────────────┼───────────────────┼────────────┼───────────────────┤\n",
              "│ dense_1 (\u001b[38;5;33mDense\u001b[0m)     │ (\u001b[38;5;45mNone\u001b[0m, \u001b[38;5;34m256\u001b[0m)       │    \u001b[38;5;34m131,328\u001b[0m │ dropout[\u001b[38;5;34m0\u001b[0m][\u001b[38;5;34m0\u001b[0m]     │\n",
              "├─────────────────────┼───────────────────┼────────────┼───────────────────┤\n",
              "│ dropout_1 (\u001b[38;5;33mDropout\u001b[0m) │ (\u001b[38;5;45mNone\u001b[0m, \u001b[38;5;34m256\u001b[0m)       │          \u001b[38;5;34m0\u001b[0m │ dense_1[\u001b[38;5;34m0\u001b[0m][\u001b[38;5;34m0\u001b[0m]     │\n",
              "├─────────────────────┼───────────────────┼────────────┼───────────────────┤\n",
              "│ dense_2 (\u001b[38;5;33mDense\u001b[0m)     │ (\u001b[38;5;45mNone\u001b[0m, \u001b[38;5;34m6\u001b[0m)         │      \u001b[38;5;34m1,542\u001b[0m │ dropout_1[\u001b[38;5;34m0\u001b[0m][\u001b[38;5;34m0\u001b[0m]   │\n",
              "└─────────────────────┴───────────────────┴────────────┴───────────────────┘\n"
            ],
            "text/html": [
              "<pre style=\"white-space:pre;overflow-x:auto;line-height:normal;font-family:Menlo,'DejaVu Sans Mono',consolas,'Courier New',monospace\">┏━━━━━━━━━━━━━━━━━━━━━┳━━━━━━━━━━━━━━━━━━━┳━━━━━━━━━━━━┳━━━━━━━━━━━━━━━━━━━┓\n",
              "┃<span style=\"font-weight: bold\"> Layer (type)        </span>┃<span style=\"font-weight: bold\"> Output Shape      </span>┃<span style=\"font-weight: bold\">    Param # </span>┃<span style=\"font-weight: bold\"> Connected to      </span>┃\n",
              "┡━━━━━━━━━━━━━━━━━━━━━╇━━━━━━━━━━━━━━━━━━━╇━━━━━━━━━━━━╇━━━━━━━━━━━━━━━━━━━┩\n",
              "│ input_layer_2       │ (<span style=\"color: #00d7ff; text-decoration-color: #00d7ff\">None</span>, <span style=\"color: #00af00; text-decoration-color: #00af00\">128</span>, <span style=\"color: #00af00; text-decoration-color: #00af00\">128</span>,  │          <span style=\"color: #00af00; text-decoration-color: #00af00\">0</span> │ -                 │\n",
              "│ (<span style=\"color: #0087ff; text-decoration-color: #0087ff\">InputLayer</span>)        │ <span style=\"color: #00af00; text-decoration-color: #00af00\">3</span>)                │            │                   │\n",
              "├─────────────────────┼───────────────────┼────────────┼───────────────────┤\n",
              "│ resnet50            │ (<span style=\"color: #00d7ff; text-decoration-color: #00d7ff\">None</span>, <span style=\"color: #00af00; text-decoration-color: #00af00\">4</span>, <span style=\"color: #00af00; text-decoration-color: #00af00\">4</span>,      │ <span style=\"color: #00af00; text-decoration-color: #00af00\">23,587,712</span> │ input_layer_2[<span style=\"color: #00af00; text-decoration-color: #00af00\">0</span>]… │\n",
              "│ (<span style=\"color: #0087ff; text-decoration-color: #0087ff\">Functional</span>)        │ <span style=\"color: #00af00; text-decoration-color: #00af00\">2048</span>)             │            │                   │\n",
              "├─────────────────────┼───────────────────┼────────────┼───────────────────┤\n",
              "│ mobilenetv2_1.00_1… │ (<span style=\"color: #00d7ff; text-decoration-color: #00d7ff\">None</span>, <span style=\"color: #00af00; text-decoration-color: #00af00\">4</span>, <span style=\"color: #00af00; text-decoration-color: #00af00\">4</span>,      │  <span style=\"color: #00af00; text-decoration-color: #00af00\">2,257,984</span> │ input_layer_2[<span style=\"color: #00af00; text-decoration-color: #00af00\">0</span>]… │\n",
              "│ (<span style=\"color: #0087ff; text-decoration-color: #0087ff\">Functional</span>)        │ <span style=\"color: #00af00; text-decoration-color: #00af00\">1280</span>)             │            │                   │\n",
              "├─────────────────────┼───────────────────┼────────────┼───────────────────┤\n",
              "│ flatten (<span style=\"color: #0087ff; text-decoration-color: #0087ff\">Flatten</span>)   │ (<span style=\"color: #00d7ff; text-decoration-color: #00d7ff\">None</span>, <span style=\"color: #00af00; text-decoration-color: #00af00\">32768</span>)     │          <span style=\"color: #00af00; text-decoration-color: #00af00\">0</span> │ resnet50[<span style=\"color: #00af00; text-decoration-color: #00af00\">0</span>][<span style=\"color: #00af00; text-decoration-color: #00af00\">0</span>]    │\n",
              "├─────────────────────┼───────────────────┼────────────┼───────────────────┤\n",
              "│ flatten_1 (<span style=\"color: #0087ff; text-decoration-color: #0087ff\">Flatten</span>) │ (<span style=\"color: #00d7ff; text-decoration-color: #00d7ff\">None</span>, <span style=\"color: #00af00; text-decoration-color: #00af00\">20480</span>)     │          <span style=\"color: #00af00; text-decoration-color: #00af00\">0</span> │ mobilenetv2_1.00… │\n",
              "├─────────────────────┼───────────────────┼────────────┼───────────────────┤\n",
              "│ concatenate         │ (<span style=\"color: #00d7ff; text-decoration-color: #00d7ff\">None</span>, <span style=\"color: #00af00; text-decoration-color: #00af00\">53248</span>)     │          <span style=\"color: #00af00; text-decoration-color: #00af00\">0</span> │ flatten[<span style=\"color: #00af00; text-decoration-color: #00af00\">0</span>][<span style=\"color: #00af00; text-decoration-color: #00af00\">0</span>],    │\n",
              "│ (<span style=\"color: #0087ff; text-decoration-color: #0087ff\">Concatenate</span>)       │                   │            │ flatten_1[<span style=\"color: #00af00; text-decoration-color: #00af00\">0</span>][<span style=\"color: #00af00; text-decoration-color: #00af00\">0</span>]   │\n",
              "├─────────────────────┼───────────────────┼────────────┼───────────────────┤\n",
              "│ dense (<span style=\"color: #0087ff; text-decoration-color: #0087ff\">Dense</span>)       │ (<span style=\"color: #00d7ff; text-decoration-color: #00d7ff\">None</span>, <span style=\"color: #00af00; text-decoration-color: #00af00\">512</span>)       │ <span style=\"color: #00af00; text-decoration-color: #00af00\">27,263,488</span> │ concatenate[<span style=\"color: #00af00; text-decoration-color: #00af00\">0</span>][<span style=\"color: #00af00; text-decoration-color: #00af00\">0</span>] │\n",
              "├─────────────────────┼───────────────────┼────────────┼───────────────────┤\n",
              "│ dropout (<span style=\"color: #0087ff; text-decoration-color: #0087ff\">Dropout</span>)   │ (<span style=\"color: #00d7ff; text-decoration-color: #00d7ff\">None</span>, <span style=\"color: #00af00; text-decoration-color: #00af00\">512</span>)       │          <span style=\"color: #00af00; text-decoration-color: #00af00\">0</span> │ dense[<span style=\"color: #00af00; text-decoration-color: #00af00\">0</span>][<span style=\"color: #00af00; text-decoration-color: #00af00\">0</span>]       │\n",
              "├─────────────────────┼───────────────────┼────────────┼───────────────────┤\n",
              "│ dense_1 (<span style=\"color: #0087ff; text-decoration-color: #0087ff\">Dense</span>)     │ (<span style=\"color: #00d7ff; text-decoration-color: #00d7ff\">None</span>, <span style=\"color: #00af00; text-decoration-color: #00af00\">256</span>)       │    <span style=\"color: #00af00; text-decoration-color: #00af00\">131,328</span> │ dropout[<span style=\"color: #00af00; text-decoration-color: #00af00\">0</span>][<span style=\"color: #00af00; text-decoration-color: #00af00\">0</span>]     │\n",
              "├─────────────────────┼───────────────────┼────────────┼───────────────────┤\n",
              "│ dropout_1 (<span style=\"color: #0087ff; text-decoration-color: #0087ff\">Dropout</span>) │ (<span style=\"color: #00d7ff; text-decoration-color: #00d7ff\">None</span>, <span style=\"color: #00af00; text-decoration-color: #00af00\">256</span>)       │          <span style=\"color: #00af00; text-decoration-color: #00af00\">0</span> │ dense_1[<span style=\"color: #00af00; text-decoration-color: #00af00\">0</span>][<span style=\"color: #00af00; text-decoration-color: #00af00\">0</span>]     │\n",
              "├─────────────────────┼───────────────────┼────────────┼───────────────────┤\n",
              "│ dense_2 (<span style=\"color: #0087ff; text-decoration-color: #0087ff\">Dense</span>)     │ (<span style=\"color: #00d7ff; text-decoration-color: #00d7ff\">None</span>, <span style=\"color: #00af00; text-decoration-color: #00af00\">6</span>)         │      <span style=\"color: #00af00; text-decoration-color: #00af00\">1,542</span> │ dropout_1[<span style=\"color: #00af00; text-decoration-color: #00af00\">0</span>][<span style=\"color: #00af00; text-decoration-color: #00af00\">0</span>]   │\n",
              "└─────────────────────┴───────────────────┴────────────┴───────────────────┘\n",
              "</pre>\n"
            ]
          },
          "metadata": {}
        },
        {
          "output_type": "display_data",
          "data": {
            "text/plain": [
              "\u001b[1m Total params: \u001b[0m\u001b[38;5;34m53,242,054\u001b[0m (203.10 MB)\n"
            ],
            "text/html": [
              "<pre style=\"white-space:pre;overflow-x:auto;line-height:normal;font-family:Menlo,'DejaVu Sans Mono',consolas,'Courier New',monospace\"><span style=\"font-weight: bold\"> Total params: </span><span style=\"color: #00af00; text-decoration-color: #00af00\">53,242,054</span> (203.10 MB)\n",
              "</pre>\n"
            ]
          },
          "metadata": {}
        },
        {
          "output_type": "display_data",
          "data": {
            "text/plain": [
              "\u001b[1m Trainable params: \u001b[0m\u001b[38;5;34m27,396,358\u001b[0m (104.51 MB)\n"
            ],
            "text/html": [
              "<pre style=\"white-space:pre;overflow-x:auto;line-height:normal;font-family:Menlo,'DejaVu Sans Mono',consolas,'Courier New',monospace\"><span style=\"font-weight: bold\"> Trainable params: </span><span style=\"color: #00af00; text-decoration-color: #00af00\">27,396,358</span> (104.51 MB)\n",
              "</pre>\n"
            ]
          },
          "metadata": {}
        },
        {
          "output_type": "display_data",
          "data": {
            "text/plain": [
              "\u001b[1m Non-trainable params: \u001b[0m\u001b[38;5;34m25,845,696\u001b[0m (98.59 MB)\n"
            ],
            "text/html": [
              "<pre style=\"white-space:pre;overflow-x:auto;line-height:normal;font-family:Menlo,'DejaVu Sans Mono',consolas,'Courier New',monospace\"><span style=\"font-weight: bold\"> Non-trainable params: </span><span style=\"color: #00af00; text-decoration-color: #00af00\">25,845,696</span> (98.59 MB)\n",
              "</pre>\n"
            ]
          },
          "metadata": {}
        }
      ]
    },
    {
      "cell_type": "code",
      "source": [
        "from tensorflow.keras.optimizers import AdamW\n",
        "from tensorflow.keras.callbacks import ReduceLROnPlateau\n",
        "from sklearn.utils import class_weight\n",
        "\n",
        "class_weights = class_weight.compute_class_weight(\n",
        "    'balanced',\n",
        "    classes=np.unique(df['label']),\n",
        "    y=df['label']\n",
        ")\n",
        "\n",
        "class_weights = dict(enumerate(class_weights))\n",
        "\n",
        "learning_rate_reduction = ReduceLROnPlateau(monitor='val_loss',\n",
        "                              patience=3,\n",
        "                              factor=0.3,\n",
        "                              min_lr=1e-5,\n",
        "                              verbose=1)\n"
      ],
      "metadata": {
        "id": "nepIW82g4OQX"
      },
      "execution_count": 20,
      "outputs": []
    },
    {
      "cell_type": "code",
      "source": [
        "# Train the model\n",
        "history = hybrid_model.fit(\n",
        "    x_train, y_train,\n",
        "    epochs=30,\n",
        "    batch_size=32,\n",
        "    validation_data=(x_validate, y_validate),\n",
        "    callbacks=[learning_rate_reduction],\n",
        "    class_weight=class_weights\n",
        ")\n",
        "\n",
        "\n",
        "# Save the hybrid model\n",
        "hybrid_model.save('/content/drive/MyDrive/Colab Notebooks/Datasets/derma_detect_model.h5')"
      ],
      "metadata": {
        "colab": {
          "base_uri": "https://localhost:8080/"
        },
        "id": "pNHt36YM4UXW",
        "outputId": "15a3012e-f4cd-435d-d062-bafab135ec0e"
      },
      "execution_count": 21,
      "outputs": [
        {
          "output_type": "stream",
          "name": "stdout",
          "text": [
            "Epoch 1/30\n",
            "\u001b[1m167/167\u001b[0m \u001b[32m━━━━━━━━━━━━━━━━━━━━\u001b[0m\u001b[37m\u001b[0m \u001b[1m61s\u001b[0m 237ms/step - accuracy: 0.4374 - loss: 1.6961 - precision: 0.5006 - recall: 0.3304 - val_accuracy: 0.7782 - val_loss: 0.6533 - val_precision: 0.8702 - val_recall: 0.6546 - learning_rate: 1.0000e-04\n",
            "Epoch 2/30\n",
            "\u001b[1m167/167\u001b[0m \u001b[32m━━━━━━━━━━━━━━━━━━━━\u001b[0m\u001b[37m\u001b[0m \u001b[1m42s\u001b[0m 57ms/step - accuracy: 0.6662 - loss: 0.9158 - precision: 0.7418 - recall: 0.5885 - val_accuracy: 0.8059 - val_loss: 0.5738 - val_precision: 0.8698 - val_recall: 0.7201 - learning_rate: 1.0000e-04\n",
            "Epoch 3/30\n",
            "\u001b[1m167/167\u001b[0m \u001b[32m━━━━━━━━━━━━━━━━━━━━\u001b[0m\u001b[37m\u001b[0m \u001b[1m10s\u001b[0m 56ms/step - accuracy: 0.7498 - loss: 0.7105 - precision: 0.8003 - recall: 0.6891 - val_accuracy: 0.8205 - val_loss: 0.5291 - val_precision: 0.8706 - val_recall: 0.7556 - learning_rate: 1.0000e-04\n",
            "Epoch 4/30\n",
            "\u001b[1m167/167\u001b[0m \u001b[32m━━━━━━━━━━━━━━━━━━━━\u001b[0m\u001b[37m\u001b[0m \u001b[1m10s\u001b[0m 59ms/step - accuracy: 0.8023 - loss: 0.5598 - precision: 0.8542 - recall: 0.7533 - val_accuracy: 0.8262 - val_loss: 0.5006 - val_precision: 0.8671 - val_recall: 0.7878 - learning_rate: 1.0000e-04\n",
            "Epoch 5/30\n",
            "\u001b[1m167/167\u001b[0m \u001b[32m━━━━━━━━━━━━━━━━━━━━\u001b[0m\u001b[37m\u001b[0m \u001b[1m10s\u001b[0m 61ms/step - accuracy: 0.8437 - loss: 0.4499 - precision: 0.8747 - recall: 0.8053 - val_accuracy: 0.8324 - val_loss: 0.4755 - val_precision: 0.8669 - val_recall: 0.8047 - learning_rate: 1.0000e-04\n",
            "Epoch 6/30\n",
            "\u001b[1m167/167\u001b[0m \u001b[32m━━━━━━━━━━━━━━━━━━━━\u001b[0m\u001b[37m\u001b[0m \u001b[1m10s\u001b[0m 58ms/step - accuracy: 0.8704 - loss: 0.3724 - precision: 0.9021 - recall: 0.8454 - val_accuracy: 0.8544 - val_loss: 0.4449 - val_precision: 0.8752 - val_recall: 0.8228 - learning_rate: 1.0000e-04\n",
            "Epoch 7/30\n",
            "\u001b[1m167/167\u001b[0m \u001b[32m━━━━━━━━━━━━━━━━━━━━\u001b[0m\u001b[37m\u001b[0m \u001b[1m10s\u001b[0m 60ms/step - accuracy: 0.8681 - loss: 0.3817 - precision: 0.8988 - recall: 0.8410 - val_accuracy: 0.8572 - val_loss: 0.4436 - val_precision: 0.8805 - val_recall: 0.8273 - learning_rate: 1.0000e-04\n",
            "Epoch 8/30\n",
            "\u001b[1m167/167\u001b[0m \u001b[32m━━━━━━━━━━━━━━━━━━━━\u001b[0m\u001b[37m\u001b[0m \u001b[1m9s\u001b[0m 57ms/step - accuracy: 0.9003 - loss: 0.2881 - precision: 0.9212 - recall: 0.8785 - val_accuracy: 0.8713 - val_loss: 0.4170 - val_precision: 0.8866 - val_recall: 0.8471 - learning_rate: 1.0000e-04\n",
            "Epoch 9/30\n",
            "\u001b[1m167/167\u001b[0m \u001b[32m━━━━━━━━━━━━━━━━━━━━\u001b[0m\u001b[37m\u001b[0m \u001b[1m10s\u001b[0m 58ms/step - accuracy: 0.9185 - loss: 0.2341 - precision: 0.9352 - recall: 0.9014 - val_accuracy: 0.8550 - val_loss: 0.4654 - val_precision: 0.8684 - val_recall: 0.8341 - learning_rate: 1.0000e-04\n",
            "Epoch 10/30\n",
            "\u001b[1m167/167\u001b[0m \u001b[32m━━━━━━━━━━━━━━━━━━━━\u001b[0m\u001b[37m\u001b[0m \u001b[1m11s\u001b[0m 61ms/step - accuracy: 0.9334 - loss: 0.1955 - precision: 0.9464 - recall: 0.9185 - val_accuracy: 0.8764 - val_loss: 0.4090 - val_precision: 0.8907 - val_recall: 0.8555 - learning_rate: 1.0000e-04\n",
            "Epoch 11/30\n",
            "\u001b[1m167/167\u001b[0m \u001b[32m━━━━━━━━━━━━━━━━━━━━\u001b[0m\u001b[37m\u001b[0m \u001b[1m10s\u001b[0m 61ms/step - accuracy: 0.9418 - loss: 0.1796 - precision: 0.9534 - recall: 0.9265 - val_accuracy: 0.8668 - val_loss: 0.4572 - val_precision: 0.8821 - val_recall: 0.8533 - learning_rate: 1.0000e-04\n",
            "Epoch 12/30\n",
            "\u001b[1m167/167\u001b[0m \u001b[32m━━━━━━━━━━━━━━━━━━━━\u001b[0m\u001b[37m\u001b[0m \u001b[1m20s\u001b[0m 57ms/step - accuracy: 0.9455 - loss: 0.1626 - precision: 0.9550 - recall: 0.9283 - val_accuracy: 0.8696 - val_loss: 0.4614 - val_precision: 0.8786 - val_recall: 0.8617 - learning_rate: 1.0000e-04\n",
            "Epoch 13/30\n",
            "\u001b[1m166/167\u001b[0m \u001b[32m━━━━━━━━━━━━━━━━━━━\u001b[0m\u001b[37m━\u001b[0m \u001b[1m0s\u001b[0m 46ms/step - accuracy: 0.9577 - loss: 0.1379 - precision: 0.9644 - recall: 0.9490\n",
            "Epoch 13: ReduceLROnPlateau reducing learning rate to 2.9999999242136255e-05.\n",
            "\u001b[1m167/167\u001b[0m \u001b[32m━━━━━━━━━━━━━━━━━━━━\u001b[0m\u001b[37m\u001b[0m \u001b[1m10s\u001b[0m 59ms/step - accuracy: 0.9577 - loss: 0.1378 - precision: 0.9644 - recall: 0.9490 - val_accuracy: 0.8747 - val_loss: 0.4386 - val_precision: 0.8840 - val_recall: 0.8646 - learning_rate: 1.0000e-04\n",
            "Epoch 14/30\n",
            "\u001b[1m167/167\u001b[0m \u001b[32m━━━━━━━━━━━━━━━━━━━━\u001b[0m\u001b[37m\u001b[0m \u001b[1m10s\u001b[0m 59ms/step - accuracy: 0.9633 - loss: 0.0992 - precision: 0.9680 - recall: 0.9576 - val_accuracy: 0.8736 - val_loss: 0.4638 - val_precision: 0.8846 - val_recall: 0.8651 - learning_rate: 3.0000e-05\n",
            "Epoch 15/30\n",
            "\u001b[1m167/167\u001b[0m \u001b[32m━━━━━━━━━━━━━━━━━━━━\u001b[0m\u001b[37m\u001b[0m \u001b[1m10s\u001b[0m 60ms/step - accuracy: 0.9757 - loss: 0.0767 - precision: 0.9810 - recall: 0.9717 - val_accuracy: 0.8742 - val_loss: 0.4821 - val_precision: 0.8865 - val_recall: 0.8679 - learning_rate: 3.0000e-05\n",
            "Epoch 16/30\n",
            "\u001b[1m166/167\u001b[0m \u001b[32m━━━━━━━━━━━━━━━━━━━\u001b[0m\u001b[37m━\u001b[0m \u001b[1m0s\u001b[0m 44ms/step - accuracy: 0.9753 - loss: 0.0721 - precision: 0.9822 - recall: 0.9730\n",
            "Epoch 16: ReduceLROnPlateau reducing learning rate to 1e-05.\n",
            "\u001b[1m167/167\u001b[0m \u001b[32m━━━━━━━━━━━━━━━━━━━━\u001b[0m\u001b[37m\u001b[0m \u001b[1m10s\u001b[0m 59ms/step - accuracy: 0.9753 - loss: 0.0721 - precision: 0.9822 - recall: 0.9730 - val_accuracy: 0.8787 - val_loss: 0.4625 - val_precision: 0.8862 - val_recall: 0.8657 - learning_rate: 3.0000e-05\n",
            "Epoch 17/30\n",
            "\u001b[1m167/167\u001b[0m \u001b[32m━━━━━━━━━━━━━━━━━━━━\u001b[0m\u001b[37m\u001b[0m \u001b[1m10s\u001b[0m 59ms/step - accuracy: 0.9827 - loss: 0.0569 - precision: 0.9864 - recall: 0.9799 - val_accuracy: 0.8781 - val_loss: 0.4564 - val_precision: 0.8873 - val_recall: 0.8708 - learning_rate: 1.0000e-05\n",
            "Epoch 18/30\n",
            "\u001b[1m167/167\u001b[0m \u001b[32m━━━━━━━━━━━━━━━━━━━━\u001b[0m\u001b[37m\u001b[0m \u001b[1m10s\u001b[0m 59ms/step - accuracy: 0.9801 - loss: 0.0621 - precision: 0.9837 - recall: 0.9750 - val_accuracy: 0.8747 - val_loss: 0.4682 - val_precision: 0.8833 - val_recall: 0.8674 - learning_rate: 1.0000e-05\n",
            "Epoch 19/30\n",
            "\u001b[1m167/167\u001b[0m \u001b[32m━━━━━━━━━━━━━━━━━━━━\u001b[0m\u001b[37m\u001b[0m \u001b[1m11s\u001b[0m 62ms/step - accuracy: 0.9841 - loss: 0.0518 - precision: 0.9873 - recall: 0.9801 - val_accuracy: 0.8809 - val_loss: 0.4641 - val_precision: 0.8886 - val_recall: 0.8736 - learning_rate: 1.0000e-05\n",
            "Epoch 20/30\n",
            "\u001b[1m167/167\u001b[0m \u001b[32m━━━━━━━━━━━━━━━━━━━━\u001b[0m\u001b[37m\u001b[0m \u001b[1m10s\u001b[0m 59ms/step - accuracy: 0.9826 - loss: 0.0522 - precision: 0.9848 - recall: 0.9781 - val_accuracy: 0.8804 - val_loss: 0.4736 - val_precision: 0.8892 - val_recall: 0.8742 - learning_rate: 1.0000e-05\n",
            "Epoch 21/30\n",
            "\u001b[1m167/167\u001b[0m \u001b[32m━━━━━━━━━━━━━━━━━━━━\u001b[0m\u001b[37m\u001b[0m \u001b[1m10s\u001b[0m 60ms/step - accuracy: 0.9827 - loss: 0.0597 - precision: 0.9853 - recall: 0.9792 - val_accuracy: 0.8787 - val_loss: 0.4764 - val_precision: 0.8891 - val_recall: 0.8730 - learning_rate: 1.0000e-05\n",
            "Epoch 22/30\n",
            "\u001b[1m167/167\u001b[0m \u001b[32m━━━━━━━━━━━━━━━━━━━━\u001b[0m\u001b[37m\u001b[0m \u001b[1m10s\u001b[0m 60ms/step - accuracy: 0.9847 - loss: 0.0503 - precision: 0.9885 - recall: 0.9819 - val_accuracy: 0.8832 - val_loss: 0.4709 - val_precision: 0.8888 - val_recall: 0.8747 - learning_rate: 1.0000e-05\n",
            "Epoch 23/30\n",
            "\u001b[1m167/167\u001b[0m \u001b[32m━━━━━━━━━━━━━━━━━━━━\u001b[0m\u001b[37m\u001b[0m \u001b[1m11s\u001b[0m 63ms/step - accuracy: 0.9861 - loss: 0.0487 - precision: 0.9878 - recall: 0.9819 - val_accuracy: 0.8804 - val_loss: 0.4698 - val_precision: 0.8893 - val_recall: 0.8747 - learning_rate: 1.0000e-05\n",
            "Epoch 24/30\n",
            "\u001b[1m167/167\u001b[0m \u001b[32m━━━━━━━━━━━━━━━━━━━━\u001b[0m\u001b[37m\u001b[0m \u001b[1m10s\u001b[0m 59ms/step - accuracy: 0.9868 - loss: 0.0427 - precision: 0.9881 - recall: 0.9844 - val_accuracy: 0.8798 - val_loss: 0.4763 - val_precision: 0.8891 - val_recall: 0.8736 - learning_rate: 1.0000e-05\n",
            "Epoch 25/30\n",
            "\u001b[1m167/167\u001b[0m \u001b[32m━━━━━━━━━━━━━━━━━━━━\u001b[0m\u001b[37m\u001b[0m \u001b[1m10s\u001b[0m 60ms/step - accuracy: 0.9868 - loss: 0.0439 - precision: 0.9873 - recall: 0.9844 - val_accuracy: 0.8826 - val_loss: 0.4740 - val_precision: 0.8887 - val_recall: 0.8742 - learning_rate: 1.0000e-05\n",
            "Epoch 26/30\n",
            "\u001b[1m167/167\u001b[0m \u001b[32m━━━━━━━━━━━━━━━━━━━━\u001b[0m\u001b[37m\u001b[0m \u001b[1m10s\u001b[0m 59ms/step - accuracy: 0.9873 - loss: 0.0432 - precision: 0.9901 - recall: 0.9832 - val_accuracy: 0.8837 - val_loss: 0.4813 - val_precision: 0.8910 - val_recall: 0.8764 - learning_rate: 1.0000e-05\n",
            "Epoch 27/30\n",
            "\u001b[1m167/167\u001b[0m \u001b[32m━━━━━━━━━━━━━━━━━━━━\u001b[0m\u001b[37m\u001b[0m \u001b[1m10s\u001b[0m 60ms/step - accuracy: 0.9885 - loss: 0.0419 - precision: 0.9896 - recall: 0.9847 - val_accuracy: 0.8826 - val_loss: 0.4776 - val_precision: 0.8893 - val_recall: 0.8753 - learning_rate: 1.0000e-05\n",
            "Epoch 28/30\n",
            "\u001b[1m167/167\u001b[0m \u001b[32m━━━━━━━━━━━━━━━━━━━━\u001b[0m\u001b[37m\u001b[0m \u001b[1m10s\u001b[0m 60ms/step - accuracy: 0.9879 - loss: 0.0438 - precision: 0.9895 - recall: 0.9851 - val_accuracy: 0.8837 - val_loss: 0.4871 - val_precision: 0.8896 - val_recall: 0.8775 - learning_rate: 1.0000e-05\n",
            "Epoch 29/30\n",
            "\u001b[1m167/167\u001b[0m \u001b[32m━━━━━━━━━━━━━━━━━━━━\u001b[0m\u001b[37m\u001b[0m \u001b[1m10s\u001b[0m 60ms/step - accuracy: 0.9835 - loss: 0.0515 - precision: 0.9859 - recall: 0.9822 - val_accuracy: 0.8826 - val_loss: 0.4793 - val_precision: 0.8909 - val_recall: 0.8753 - learning_rate: 1.0000e-05\n",
            "Epoch 30/30\n",
            "\u001b[1m167/167\u001b[0m \u001b[32m━━━━━━━━━━━━━━━━━━━━\u001b[0m\u001b[37m\u001b[0m \u001b[1m10s\u001b[0m 58ms/step - accuracy: 0.9885 - loss: 0.0462 - precision: 0.9903 - recall: 0.9861 - val_accuracy: 0.8809 - val_loss: 0.4920 - val_precision: 0.8867 - val_recall: 0.8747 - learning_rate: 1.0000e-05\n"
          ]
        },
        {
          "output_type": "stream",
          "name": "stderr",
          "text": [
            "WARNING:absl:You are saving your model as an HDF5 file via `model.save()` or `keras.saving.save_model(model)`. This file format is considered legacy. We recommend using instead the native Keras format, e.g. `model.save('my_model.keras')` or `keras.saving.save_model(model, 'my_model.keras')`. \n"
          ]
        }
      ]
    },
    {
      "cell_type": "code",
      "source": [
        "# Evaluate the model\n",
        "loss, accuracy, precision, recall = hybrid_model.evaluate(x_test, y_test, verbose=1)\n",
        "print(f\"Test Accuracy: {accuracy:.4f}\")\n",
        "print(f\"Test Precision: {precision:.4f}\")\n",
        "print(f\"Test Recall: {recall:.4f}\")\n",
        "\n",
        "# Calculate F1-score\n",
        "y_pred = hybrid_model.predict(x_test)\n",
        "y_pred_classes = np.argmax(y_pred, axis=1)\n",
        "y_true_classes = np.argmax(y_test, axis=1)\n",
        "f1 = f1_score(y_true_classes, y_pred_classes, average='weighted')\n",
        "print(f\"Test F1-Score: {f1:.4f}\")"
      ],
      "metadata": {
        "id": "hrjvYCTu4ZJQ"
      },
      "execution_count": null,
      "outputs": []
    },
    {
      "cell_type": "code",
      "source": [
        "# Evaluate on training data\n",
        "train_loss, train_accuracy, train_precision, train_recall = hybrid_model.evaluate(x_train, y_train, verbose=1)\n",
        "print(\"\\nTraining Set Metrics:\")\n",
        "print(f\"Train Accuracy: {train_accuracy:.4f}\")\n",
        "print(f\"Train Precision: {train_precision:.4f}\")\n",
        "print(f\"Train Recall: {train_recall:.4f}\")\n",
        "\n",
        "# Calculate F1-score for training data\n",
        "y_train_pred = hybrid_model.predict(x_train)\n",
        "y_train_pred_classes = np.argmax(y_train_pred, axis=1)\n",
        "y_train_true_classes = np.argmax(y_train, axis=1)\n",
        "train_f1 = f1_score(y_train_true_classes, y_train_pred_classes, average='weighted')\n",
        "print(f\"Train F1-Score: {train_f1:.4f}\")"
      ],
      "metadata": {
        "id": "bwkl36NR4uWU"
      },
      "execution_count": null,
      "outputs": []
    },
    {
      "cell_type": "code",
      "source": [
        "import matplotlib.pyplot as plt\n",
        "\n",
        "train_acc = history.history['accuracy']\n",
        "val_acc = history.history['val_accuracy']\n",
        "\n",
        "train_loss = history.history['loss']\n",
        "val_loss = history.history['val_loss']\n",
        "\n",
        "epochs_range = range(1, len(history.epoch) + 1)\n",
        "\n",
        "plt.figure(figsize=(15, 5))\n",
        "\n",
        "# Accuracy graph\n",
        "plt.subplot(1, 2, 1)\n",
        "plt.plot(epochs_range, train_acc, label='Train Accuracy')\n",
        "plt.plot(epochs_range, val_acc, label='Validation Accuracy')\n",
        "plt.legend(loc=\"best\")\n",
        "plt.xlabel('Epochs')\n",
        "plt.ylabel('Accuracy')\n",
        "plt.title('Skin Disease Classification Model Accuracy')\n",
        "\n",
        "# Loss graph\n",
        "plt.subplot(1, 2, 2)\n",
        "plt.plot(epochs_range, train_loss, label='Train Loss')\n",
        "plt.plot(epochs_range, val_loss, label='Validation Loss')\n",
        "plt.legend(loc=\"best\")\n",
        "plt.xlabel('Epochs')\n",
        "plt.ylabel('Loss')\n",
        "plt.title('Skin Disease Classification Model Loss')\n",
        "\n",
        "plt.tight_layout()\n",
        "plt.show()\n"
      ],
      "metadata": {
        "id": "HbnAr59C6OKs"
      },
      "execution_count": null,
      "outputs": []
    },
    {
      "cell_type": "code",
      "source": [
        "import numpy as np\n",
        "import seaborn as sns\n",
        "import matplotlib.pyplot as plt\n",
        "from sklearn.metrics import confusion_matrix\n",
        "\n",
        "y_pred_prob = hybrid_model.predict(x_test)\n",
        "\n",
        "y_pred = np.argmax(y_pred_prob, axis=1)\n",
        "\n",
        "y_true = np.argmax(y_test, axis=1)\n",
        "\n",
        "# Calculate the confusion matrix\n",
        "cm = confusion_matrix(y_true, y_pred)\n",
        "\n",
        "# Normalize the confusion matrix\n",
        "cm_normalized = cm.astype('float') / cm.sum(axis=1)[:, np.newaxis]\n",
        "\n",
        "plt.figure(figsize=(6,5))\n",
        "sns.heatmap(cm_normalized, annot=True, fmt=\".2f\", cmap=\"Blues\", xticklabels=[\"Vascular Lesions \", \"Seborrheic Keratosis\", \"Melanoma\", \"Dermatofibroma\", \"Acne\", \"Basal Cell Carcinoma\"], yticklabels=[\"Vascular Lesions \", \"Seborrheic Keratosis\", \"Melanoma\", \"Dermatofibroma\", \"Acne\", \"Basal Cell Carcinoma\"])\n",
        "plt.xlabel(\"Predicted Label\")\n",
        "plt.ylabel(\"True Label\")\n",
        "plt.title(\"Normalized Confusion Matrix\")\n",
        "plt.show()\n"
      ],
      "metadata": {
        "id": "RxWW4dT16Pd9"
      },
      "execution_count": null,
      "outputs": []
    },
    {
      "cell_type": "code",
      "source": [
        "import numpy as np\n",
        "import seaborn as sns\n",
        "import matplotlib.pyplot as plt\n",
        "from sklearn.metrics import confusion_matrix\n",
        "\n",
        "y_pred_prob = hybrid_model.predict(x_test)\n",
        "\n",
        "y_pred = np.argmax(y_pred_prob, axis=1)\n",
        "\n",
        "y_true = np.argmax(y_test, axis=1)\n",
        "\n",
        "# Calculate the confusion matrix\n",
        "cm = confusion_matrix(y_true, y_pred)\n",
        "\n",
        "# Plot the confusion matrix using Seaborn\n",
        "plt.figure(figsize=(6,5))\n",
        "sns.heatmap(cm, annot=True, fmt=\"d\", cmap=\"Blues\", xticklabels=[\"Vascular Lesions \", \"Seborrheic Keratosis\", \"Melanoma\", \"Dermatofibroma\", \"Acne\", \"Basal Cell Carcinoma\"], yticklabels=[\"Vascular Lesions \", \"Seborrheic Keratosis\", \"Melanoma\", \"Dermatofibroma\", \"Acne\", \"Basal Cell Carcinoma\"])\n",
        "plt.xlabel(\"Predicted Label\")\n",
        "plt.ylabel(\"True Label\")\n",
        "plt.title(\"Confusion Matrix\")\n",
        "plt.show()\n"
      ],
      "metadata": {
        "id": "eLTF2baR6TWC"
      },
      "execution_count": null,
      "outputs": []
    }
  ],
  "metadata": {
    "colab": {
      "provenance": [],
      "gpuType": "T4",
      "mount_file_id": "1jCtIxSpDjCfNbIbnTZOuZ0Y5JrgSZ434",
      "authorship_tag": "ABX9TyNjYUyTVyk8WFj9Ck3eONG1",
      "include_colab_link": true
    },
    "kernelspec": {
      "display_name": "Python 3",
      "name": "python3"
    },
    "language_info": {
      "name": "python"
    },
    "accelerator": "GPU"
  },
  "nbformat": 4,
  "nbformat_minor": 0
}